{
 "cells": [
  {
   "cell_type": "markdown",
   "id": "765c0422",
   "metadata": {},
   "source": [
    "# 문제 6\n",
    "\n",
    "[Kaggle 형] train_prob.csv로 문제 failure 예측하는 모델을 만들고, \n",
    "\n",
    "test_prob.csv에 대한 failure가 1일 확률 예측하여 다음과 같은 형식의 answer6.csv를 만들어라. \n",
    "\n",
    "측정 지표는 AUC(area under of ROC curve)이다. id 는 테스트 케이스의 id 이고, failure에는 failure가 1이 될 확률이다.\n",
    "\n",
    "id,failure\n",
    "\n",
    "16115, 0.1\n",
    "\n",
    "16116, 0.2\n"
   ]
  },
  {
   "cell_type": "code",
   "execution_count": 1,
   "id": "422cead3",
   "metadata": {},
   "outputs": [
    {
     "name": "stdout",
     "output_type": "stream",
     "text": [
      "3.7.4 (tags/v3.7.4:e09359112e, Jul  8 2019, 20:34:20) [MSC v.1916 64 bit (AMD64)]\n",
      "pandas 0.25.1\n",
      "numpy 1.18.5\n",
      "sklearn 0.21.3\n",
      "scipy 1.5.2\n",
      "mlxtend 0.15.0.0\n",
      "statsmodels 0.11.1\n",
      "xgboost 0.80\n"
     ]
    }
   ],
   "source": [
    "# 실행 환경 확인\n",
    "\n",
    "import pandas as pd\n",
    "import numpy as np\n",
    "import sklearn\n",
    "import scipy\n",
    "import statsmodels\n",
    "import mlxtend\n",
    "import sys\n",
    "import xgboost as xgb\n",
    "\n",
    "print(sys.version)\n",
    "for i in [pd, np, sklearn, scipy, mlxtend, statsmodels, xgb]:\n",
    "    print(i.__name__, i.__version__)"
   ]
  },
  {
   "cell_type": "code",
   "execution_count": 2,
   "id": "7d876853",
   "metadata": {},
   "outputs": [],
   "source": [
    "df_train = pd.read_csv('train_prob.csv', index_col='id')\n",
    "df_test = pd.read_csv('test_prob.csv', index_col='id')\n",
    "df_ans = pd.read_csv('test_prob_ans.csv', index_col='id') # 정답을 가져옵니다."
   ]
  },
  {
   "cell_type": "code",
   "execution_count": 3,
   "id": "98f1fd43",
   "metadata": {},
   "outputs": [],
   "source": [
    "# 결측치를 처리하기 전에,\n",
    "# 결측 여부가 failure를 예측하는데, 유용할 만하다고 도출된\n",
    "# measurement_3, measurement_5의 결측 여부만 남깁니다.\n",
    "df_train[['na_1', 'na_2']] = df_train[['measurement_3', 'measurement_5']].isna()\n",
    "df_test[['na_1', 'na_2']] = df_test[['measurement_3', 'measurement_5']].isna()"
   ]
  },
  {
   "cell_type": "code",
   "execution_count": 4,
   "id": "b563810b",
   "metadata": {},
   "outputs": [
    {
     "data": {
      "text/plain": [
       "C    5765\n",
       "E    5343\n",
       "B    5250\n",
       "A    5100\n",
       "Name: product_code, dtype: int64"
      ]
     },
     "execution_count": 4,
     "metadata": {},
     "output_type": "execute_result"
    }
   ],
   "source": [
    "df_train['product_code'].value_counts()"
   ]
  },
  {
   "cell_type": "code",
   "execution_count": 5,
   "id": "09c0bbba",
   "metadata": {},
   "outputs": [
    {
     "data": {
      "text/plain": [
       "D    5112\n",
       "Name: product_code, dtype: int64"
      ]
     },
     "execution_count": 5,
     "metadata": {},
     "output_type": "execute_result"
    }
   ],
   "source": [
    "df_test['product_code'].value_counts()"
   ]
  },
  {
   "cell_type": "code",
   "execution_count": 6,
   "id": "8421c751",
   "metadata": {},
   "outputs": [],
   "source": [
    "from sklearn.experimental import enable_iterative_imputer# 구문을 사용하여 실험 단계인 모듈을 활성화하고, \n",
    "from sklearn.impute import IterativeImputer\n",
    "from sklearn.linear_model import LinearRegression\n",
    "from sklearn.metrics import r2_score\n",
    "\n",
    "X_imp = ['measurement_{}'.format(i) for i in range(3, 10)] + ['measurement_17']\n",
    "# train에 등장하지 않은 수준이 있습니다, test를 포함하여 결측처리 모델을 만듭니다.\n",
    "s_imp = pd.concat([\n",
    "        df_train[X_imp + ['product_code']],\n",
    "        df_test[X_imp + ['product_code']]\n",
    "], axis=0).groupby('product_code')\\\n",
    ".apply(\n",
    "    lambda x: IterativeImputer(estimator=LinearRegression(),random_state=123).fit(x[X_imp])\n",
    ")\n",
    "# train에 적용합니다.\n",
    "df_train[X_imp] = df_train[X_imp + ['product_code']]\\\n",
    "            .groupby('product_code')\\\n",
    "            .apply(\n",
    "                lambda x: pd.DataFrame(s_imp.loc[x.name].transform(x[X_imp]), index=x.index, columns=X_imp)\n",
    "            )\n",
    "# test에 적용합니다.\n",
    "df_test[X_imp] = df_test[X_imp + ['product_code']]\\\n",
    "            .groupby('product_code')\\\n",
    "            .apply(\n",
    "                lambda x: pd.DataFrame(s_imp.loc[x.name].transform(x[X_imp]), index=x.index, columns=X_imp)\n",
    "            )"
   ]
  },
  {
   "cell_type": "code",
   "execution_count": 7,
   "id": "68d073da",
   "metadata": {},
   "outputs": [],
   "source": [
    "X_mean = ['measurement_{}'.format(i) for i in range(10, 17)]\n",
    "# 역시 train에 등장하지 않은 수준을 처리하기 위해 합치니다.\n",
    "df_mean = pd.concat([\n",
    "            df_train[['product_code'] + X_mean],\n",
    "            df_test[['product_code'] + X_mean]\n",
    "        ]).groupby('product_code')[X_mean].agg('mean')\n",
    "\n",
    "df_train[X_mean] = df_train.groupby('product_code')[X_mean]\\\n",
    "            .apply(lambda x: pd.DataFrame(x.fillna(df_mean.loc[x.name]), index=x.index, columns=x.columns))\n",
    "df_test[X_mean] = df_test.groupby('product_code')[X_mean]\\\n",
    "            .apply(lambda x: pd.DataFrame(x.fillna(df_mean.loc[x.name]), index=x.index, columns=x.columns))"
   ]
  },
  {
   "cell_type": "code",
   "execution_count": 8,
   "id": "803a9f2c",
   "metadata": {},
   "outputs": [
    {
     "data": {
      "text/plain": [
       "(0, 0)"
      ]
     },
     "execution_count": 8,
     "metadata": {},
     "output_type": "execute_result"
    }
   ],
   "source": [
    "df_train['loading'] = df_train['loading'].fillna(df_train['loading'].mean())\n",
    "# loading은 train에서의 평균으로 결측치를 처리합니다.\n",
    "df_test['loading'] = df_test['loading'].fillna(df_train['loading'].mean())\n",
    "df_train.isna().sum().sum(), df_test.isna().sum().sum()"
   ]
  },
  {
   "cell_type": "code",
   "execution_count": 9,
   "id": "40a1ee21",
   "metadata": {},
   "outputs": [],
   "source": [
    "# 공통으로 사용할 만한 요소입니다.\n",
    "from sklearn.model_selection import StratifiedKFold, GroupKFold, cross_validate\n",
    "from sklearn.pipeline import make_pipeline\n",
    "from sklearn.compose import ColumnTransformer\n",
    "from sklearn.metrics import roc_auc_score\n",
    "from sklearn.preprocessing import StandardScaler\n",
    "from sklearn.decomposition import PCA\n",
    "\n",
    "gcv = GroupKFold(4)\n",
    "scv = StratifiedKFold(5, random_state=123, shuffle=True)\n",
    "X = df_test.columns.tolist()\n",
    "\n",
    "def eval_model(model, cv):\n",
    "    return cross_validate(\n",
    "        model, df_train[X], df_train['failure'], return_train_score=True, cv=cv, \n",
    "                   scoring='roc_auc', groups=df_train['product_code']\n",
    "    )\n",
    "\n",
    "def choose_model(model):\n",
    "    model.fit(df_train[X], df_train['failure'])\n",
    "    prd = model.predict_proba(df_test[X])[:, 1]\n",
    "    pd.DataFrame({\n",
    "        'failure': prd\n",
    "    }, index=df_test.index).to_csv('answer6.csv')\n",
    "    return prd"
   ]
  },
  {
   "cell_type": "code",
   "execution_count": 10,
   "id": "d58dad37",
   "metadata": {},
   "outputs": [
    {
     "name": "stdout",
     "output_type": "stream",
     "text": [
      "['A' 'B' 'E'] ['C']\n",
      "['A' 'B' 'C'] ['E']\n",
      "['A' 'C' 'E'] ['B']\n",
      "['B' 'C' 'E'] ['A']\n"
     ]
    }
   ],
   "source": [
    "# GroupKFold, group을 기준으로 test에는 train 등장하지 않는 수준으로 데이터를 구성합니다.\n",
    "for train_idx, test_idx in gcv.split(df_train[X], df_train['failure'], groups=df_train['product_code']):\n",
    "    print(\n",
    "        df_train.iloc[train_idx]['product_code'].unique(),\n",
    "        df_train.iloc[test_idx]['product_code'].unique()\n",
    "    )"
   ]
  },
  {
   "cell_type": "code",
   "execution_count": 11,
   "id": "1ed14553",
   "metadata": {},
   "outputs": [
    {
     "data": {
      "text/plain": [
       "({'fit_time': array([0.01317739, 0.01864767, 0.01153851, 0.0156219 ]),\n",
       "  'score_time': array([0.01406932, 0.00398922, 0.        , 0.        ]),\n",
       "  'test_score': array([0.58822089, 0.58492694, 0.58894173, 0.59538985]),\n",
       "  'train_score': array([0.59262299, 0.59350682, 0.59192443, 0.58956962])},\n",
       " 0.5893698519267131)"
      ]
     },
     "execution_count": 11,
     "metadata": {},
     "output_type": "execute_result"
    }
   ],
   "source": [
    "# Baseline 모델입니다: 문제 3에서 전진선택법으로 뽑아낸 속성을 사용합니다.\n",
    "from sklearn.linear_model import LogisticRegression\n",
    "ct = ColumnTransformer([\n",
    "    ('std', StandardScaler(), ['loading', 'measurement_1', 'measurement_4', 'measurement_14', 'measurement_17']),\n",
    "    ('pt', 'passthrough', ['na_1'])\n",
    "])\n",
    "\n",
    "clf_lr = make_pipeline(ct, LogisticRegression(solver='lbfgs'))\n",
    "result = eval_model(clf_lr, gcv)\n",
    "result, np.mean(result['test_score'])"
   ]
  },
  {
   "cell_type": "code",
   "execution_count": 12,
   "id": "1d5e167f",
   "metadata": {},
   "outputs": [],
   "source": [
    "# 모델을 선택합니다.\n",
    "prd = choose_model(clf_lr)"
   ]
  },
  {
   "cell_type": "code",
   "execution_count": 13,
   "id": "6e687b91",
   "metadata": {},
   "outputs": [
    {
     "data": {
      "text/plain": [
       "0.5883988309352517"
      ]
     },
     "execution_count": 13,
     "metadata": {},
     "output_type": "execute_result"
    }
   ],
   "source": [
    "# 채점을 해봅니다.\n",
    "roc_auc_score(df_ans['failure'], prd)"
   ]
  },
  {
   "cell_type": "code",
   "execution_count": 14,
   "id": "e7a222c8",
   "metadata": {},
   "outputs": [
    {
     "data": {
      "text/plain": [
       "({'fit_time': array([0.04585481, 0.03124356, 0.04686522, 0.04686117]),\n",
       "  'score_time': array([0.00698113, 0.01562142, 0.        , 0.        ]),\n",
       "  'test_score': array([0.58523328, 0.58381749, 0.58603273, 0.59187292]),\n",
       "  'train_score': array([0.59481235, 0.59481825, 0.5933697 , 0.59100098])},\n",
       " 0.586739105414297)"
      ]
     },
     "execution_count": 14,
     "metadata": {},
     "output_type": "execute_result"
    }
   ],
   "source": [
    "# Baseline 모델입니다: 문제 4에서 PCA로 뽑아낸 모델을 선택합니다.\n",
    "from sklearn.linear_model import LogisticRegression\n",
    "ct = ColumnTransformer([\n",
    "    ('std_pca', make_pipeline(StandardScaler(), PCA()), ['measurement_{}'.format(i) for i in range(18)]),\n",
    "    ('std', StandardScaler(), ['loading']),\n",
    "    ('pt', 'passthrough', ['na_1', 'na_2'])\n",
    "])\n",
    "\n",
    "clf_lr2 = make_pipeline(ct, LogisticRegression(solver='lbfgs'))\n",
    "result = eval_model(clf_lr2, gcv)\n",
    "result, np.mean(result['test_score'])"
   ]
  },
  {
   "cell_type": "code",
   "execution_count": 15,
   "id": "c93104c4",
   "metadata": {},
   "outputs": [
    {
     "data": {
      "text/plain": [
       "({'fit_time': array([0.83906794, 0.90419626, 1.53091979, 1.2779057 ]),\n",
       "  'score_time': array([0.        , 0.01559281, 0.01559067, 0.        ]),\n",
       "  'test_score': array([0.58102148, 0.57867625, 0.57843643, 0.58456933]),\n",
       "  'train_score': array([0.60183525, 0.60205625, 0.60462231, 0.60053106])},\n",
       " 0.5806758736037123)"
      ]
     },
     "execution_count": 15,
     "metadata": {},
     "output_type": "execute_result"
    }
   ],
   "source": [
    "# MLPClassifier도 사용해봅니다.\n",
    "from sklearn.neural_network import MLPClassifier\n",
    "ct = ColumnTransformer([\n",
    "    ('std', StandardScaler(), ['loading'] + ['measurement_{}'.format(i) for i in range(18)]),\n",
    "    ('pt', 'passthrough', ['na_1', 'na_2'])\n",
    "])\n",
    "\n",
    "clf_mlp = make_pipeline(ct, MLPClassifier(hidden_layer_sizes=[4, 4], alpha=0.001, random_state=123))\n",
    "result = eval_model(clf_mlp, gcv)\n",
    "result, np.mean(result['test_score'])"
   ]
  },
  {
   "cell_type": "code",
   "execution_count": 16,
   "id": "ab103d9f",
   "metadata": {},
   "outputs": [
    {
     "data": {
      "text/plain": [
       "({'fit_time': array([1.27712178, 0.78798437, 0.78106689, 0.81226778]),\n",
       "  'score_time': array([0.12500024, 0.12499928, 0.12500262, 0.12499905]),\n",
       "  'test_score': array([0.58251565, 0.57783387, 0.58548793, 0.58836168]),\n",
       "  'train_score': array([0.63213838, 0.63809805, 0.63598794, 0.63209556])},\n",
       " 0.5835497811343335)"
      ]
     },
     "execution_count": 16,
     "metadata": {},
     "output_type": "execute_result"
    }
   ],
   "source": [
    "# RandomForestClassifier 모델도 만들어 봅니다.  (좀더 튜닝했습니다.)\n",
    "# PCA도 넣어 봅니다.\n",
    "from sklearn.ensemble import RandomForestClassifier\n",
    "X_rf = ['loading', 'na_1', 'na_2'] + ['measurement_{}'.format(i) for i in range(18)]\n",
    "ct = ColumnTransformer([\n",
    "    ('std_pca', make_pipeline(StandardScaler(), PCA(n_components=7)), X_rf),\n",
    "    ('pt', 'passthrough', ['loading', 'na_1', 'na_2'])\n",
    "])\n",
    "clf_rf = make_pipeline(ct, RandomForestClassifier(\n",
    "    n_estimators=150, max_depth=7, min_samples_split= 512, random_state=123, n_jobs=4\n",
    "))\n",
    "result = eval_model(clf_rf, gcv)\n",
    "result,  np.mean(result['test_score'])"
   ]
  },
  {
   "cell_type": "code",
   "execution_count": 17,
   "id": "995a6c4d",
   "metadata": {},
   "outputs": [
    {
     "data": {
      "text/plain": [
       "({'fit_time': array([2.17214561, 2.21822596, 2.2182281 , 2.25943184]),\n",
       "  'score_time': array([0.03124332, 0.03124237, 0.03124428, 0.03124332]),\n",
       "  'test_score': array([0.58536186, 0.58262546, 0.58334564, 0.59225923]),\n",
       "  'train_score': array([0.60852592, 0.60910272, 0.6080427 , 0.60689529])},\n",
       " 0.5858980476811373)"
      ]
     },
     "execution_count": 17,
     "metadata": {},
     "output_type": "execute_result"
    }
   ],
   "source": [
    "# XGBoost로 해봅니다.\n",
    "import xgboost as xgb\n",
    "X_xgb = ['loading', 'na_1', 'na_2'] + ['measurement_{}'.format(i) for i in range(18)]\n",
    "ct = ColumnTransformer([\n",
    "    ('pt', 'passthrough', X_xgb)\n",
    "])\n",
    "clf_xgb = xgb.XGBClassifier(\n",
    "    learning_rate=0.01, n_estimators=300, subsample=0.5, colsample_bytree=0.9, max_depth=2, random_state=123\n",
    ")\n",
    "clf_xgb = make_pipeline(ct, clf_xgb)\n",
    "result = eval_model(clf_xgb, gcv)\n",
    "result,  np.mean(result['test_score'])"
   ]
  },
  {
   "cell_type": "code",
   "execution_count": 18,
   "id": "dcb58217",
   "metadata": {},
   "outputs": [
    {
     "data": {
      "text/plain": [
       "({'fit_time': array([0.97549939, 0.98425627, 0.98414063, 0.96854973]),\n",
       "  'score_time': array([0.02509451, 0.        , 0.01559591, 0.01562047]),\n",
       "  'test_score': array([0.58394407, 0.58068345, 0.5846679 , 0.59357819]),\n",
       "  'train_score': array([0.59490185, 0.59741658, 0.59562136, 0.59252278])},\n",
       " 0.5857184027349147)"
      ]
     },
     "execution_count": 18,
     "metadata": {},
     "output_type": "execute_result"
    }
   ],
   "source": [
    "# GradientBoosting 모델을 만들어 봅니다.\n",
    "from sklearn.ensemble import GradientBoostingClassifier\n",
    "X_gb = ['loading', 'na_1', 'na_2'] + ['measurement_{}'.format(i) for i in range(18)]\n",
    "ct = ColumnTransformer([\n",
    "    ('pt', 'passthrough', X_gb)\n",
    "])\n",
    "clf_gb = make_pipeline(ct, GradientBoostingClassifier(\n",
    "    n_estimators=100, max_depth=2, learning_rate=0.01, random_state=123\n",
    "))\n",
    "result = eval_model(clf_gb, gcv)\n",
    "result,  np.mean(result['test_score'])"
   ]
  },
  {
   "cell_type": "code",
   "execution_count": 19,
   "id": "03e9617e",
   "metadata": {},
   "outputs": [
    {
     "data": {
      "text/plain": [
       "({'fit_time': array([1.00148964, 0.98787117, 1.01535869, 0.98413444]),\n",
       "  'score_time': array([0.01881623, 0.01562524, 0.01561999, 0.01562476]),\n",
       "  'test_score': array([0.58930567, 0.58573059, 0.58939867, 0.59653137]),\n",
       "  'train_score': array([0.59567237, 0.59693881, 0.59580892, 0.59247848])},\n",
       " 0.5902415739208746)"
      ]
     },
     "execution_count": 19,
     "metadata": {},
     "output_type": "execute_result"
    }
   ],
   "source": [
    "from sklearn.ensemble import VotingClassifier\n",
    "# 모두 앙상블을 해봅니다. roc_auc에서 확률을 활용하므로 voting 을 soft로 합니다.\n",
    "clf_vt = VotingClassifier(\n",
    "    [\n",
    "        ('lr', clf_lr), #  Baseline: 속성 선택\n",
    "        #('lr_2', clf_lr2), # PCA + 속성 선택 모델 \n",
    "        ('gb', clf_gb), # GradientBoost\n",
    "        #('rf', clf_rf), # Random Forest\n",
    "        #('xgb', clf_xgb), # xgboost\n",
    "        #('mlp', clf_mlp) # MLP\n",
    "    ],\n",
    "    voting='soft'\n",
    ")\n",
    "result = eval_model(clf_vt, gcv)\n",
    "result, np.mean(result['test_score'])"
   ]
  },
  {
   "cell_type": "code",
   "execution_count": 20,
   "id": "721f22ca",
   "metadata": {},
   "outputs": [],
   "source": [
    "# 모델을 선택합니다.\n",
    "prd = choose_model(clf_vt)"
   ]
  },
  {
   "cell_type": "code",
   "execution_count": 21,
   "id": "3008f177",
   "metadata": {},
   "outputs": [
    {
     "data": {
      "text/plain": [
       "0.5927039118705035"
      ]
     },
     "execution_count": 21,
     "metadata": {},
     "output_type": "execute_result"
    }
   ],
   "source": [
    "# 채점을 해봅니다.\n",
    "roc_auc_score(df_ans['failure'], prd)"
   ]
  },
  {
   "cell_type": "code",
   "execution_count": null,
   "id": "f7f067da",
   "metadata": {},
   "outputs": [],
   "source": []
  }
 ],
 "metadata": {
  "kernelspec": {
   "display_name": "Python 3 (ipykernel)",
   "language": "python",
   "name": "python3"
  },
  "language_info": {
   "codemirror_mode": {
    "name": "ipython",
    "version": 3
   },
   "file_extension": ".py",
   "mimetype": "text/x-python",
   "name": "python",
   "nbconvert_exporter": "python",
   "pygments_lexer": "ipython3",
   "version": "3.7.4"
  }
 },
 "nbformat": 4,
 "nbformat_minor": 5
}
