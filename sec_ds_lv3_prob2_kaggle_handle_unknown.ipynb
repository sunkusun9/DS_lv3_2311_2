{
 "cells": [
  {
   "cell_type": "markdown",
   "id": "0aa73290",
   "metadata": {},
   "source": [
    "## 문제 6\n",
    "\n",
    "**Kaggle 형** train_prob.csv로 문제 target을 예측하는 모델을 만들고, \n",
    "\n",
    "test_prob.csv에 대한 target 예측하여 다음과 같은 형식의 answer6.csv를 만들어라.\n",
    "\n",
    "id, target\n",
    "\n",
    "0, 6.9\n",
    "\n",
    "5, 7.8\n",
    "\n",
    "...\n",
    "\n",
    "\n",
    "**평가지표**\n",
    "\n",
    "$RMSE(Y, \\hat{Y}) = \\sqrt{\\frac{1}{n}\\sum^{n}_{i=1}(y_i-\\hat{y_i})^2}$\n",
    "\n",
    "**강사: 멀티캠퍼스 강선구(sunku0316.kang@multicampus.com, sun9sun9@gmail.com)**"
   ]
  },
  {
   "cell_type": "markdown",
   "id": "91411423",
   "metadata": {},
   "source": [
    "# 모수적 모델 특히 선형모델에서는 가변수를 만들때 drop='first'가 꼭 필요합니다"
   ]
  },
  {
   "cell_type": "code",
   "execution_count": 24,
   "id": "8453bdf7",
   "metadata": {},
   "outputs": [
    {
     "name": "stdout",
     "output_type": "stream",
     "text": [
      "3.7.4 (tags/v3.7.4:e09359112e, Jul  8 2019, 20:34:20) [MSC v.1916 64 bit (AMD64)]\n",
      "pandas 0.25.1\n",
      "numpy 1.18.5\n",
      "sklearn 0.21.3\n",
      "scipy 1.5.2\n",
      "mlxtend 0.15.0.0\n",
      "statsmodels 0.11.1\n",
      "xgboost 0.80\n"
     ]
    }
   ],
   "source": [
    "# 실행 환경 확인\n",
    "\n",
    "import pandas as pd\n",
    "import numpy as np\n",
    "import sklearn\n",
    "import scipy\n",
    "import statsmodels\n",
    "import mlxtend\n",
    "import sys\n",
    "import xgboost as xgb\n",
    "\n",
    "print(sys.version)\n",
    "for i in [pd, np, sklearn, scipy, mlxtend, statsmodels, xgb]:\n",
    "    print(i.__name__, i.__version__)"
   ]
  },
  {
   "cell_type": "code",
   "execution_count": 25,
   "id": "5dce65bc",
   "metadata": {},
   "outputs": [],
   "source": [
    "df_train = pd.read_csv('train_prob.csv', index_col='id')\n",
    "df_test = pd.read_csv('test_prob.csv', index_col='id')\n",
    "df_ans = pd.read_csv('test_prob_ans.csv', index_col='id')"
   ]
  },
  {
   "cell_type": "code",
   "execution_count": 26,
   "id": "f85ca9cb",
   "metadata": {},
   "outputs": [
    {
     "name": "stdout",
     "output_type": "stream",
     "text": [
      "cat3 {'B': 'C'} [83634, 147361, 9005]\n",
      "cat4 {'A': 'B', 'D': 'B'} [239397, 603]\n",
      "cat6 {'D': 'A', 'E': 'B', 'G': 'C', 'H': 'B', 'I': 'A'} [234203, 5145, 652]\n",
      "cat7 {'A': 'B', 'C': 'B', 'F': 'D', 'I': 'B'} [4606, 19784, 214027, 1583]\n",
      "cat8 {'B': 'G', 'F': 'E'} [30338, 96743, 2953, 76085, 33881]\n",
      "cat9 {'C': 'H', 'D': 'B', 'E': 'L'} [10678, 2846, 85944, 8320, 19987, 40070, 5501, 16743, 33793, 7819, 3331, 4968]\n"
     ]
    }
   ],
   "source": [
    "# 반복문을 구성하여 처리해 봅니다.\n",
    "\n",
    "# 처리 내용을 정의합니다, (대상 변수명, 치환할 내용, 치환후 수준별 카운트)\n",
    "repl_list = [\n",
    "    ('cat3', {'B': 'C'}, [83634, 147361, 9005]), \n",
    "    ('cat4', {'A': 'B', 'D': 'B'}, [239397, 603]),\n",
    "    ('cat6', {'D': 'A', 'E': 'B', 'G': 'C', 'H': 'B', 'I': 'A'}, [234203, 5145, 652]),\n",
    "    ('cat7', {'A': 'B', 'C': 'B', 'F': 'D', 'I': 'B'}, [4606, 19784, 214027, 1583]),\n",
    "    ('cat8', {'B': 'G', 'F': 'E'}, [30338, 96743, 2953, 76085, 33881]),\n",
    "    ('cat9', {'C': 'H', 'D': 'B', 'E': 'L'}, [10678, 2846, 85944, 8320, 19987, 40070, 5501, 16743, 33793, 7819, 3331, 4968])\n",
    "]\n",
    "\n",
    "for c, d, cnt in repl_list:\n",
    "    print(c, d, cnt)\n",
    "    s_repl = df_train[c].replace(d) # 치환을 합니다. (아직 반영은 하지 않습니다.)\n",
    "    if not (s_repl.value_counts().sort_index() == cnt).all(): # 치환후 카운트를 체크합니다.\n",
    "        print(\"Error\", c, d, cnt, s_repl.value_counts().sort_index()) # 에러 내용을 출력합니다.\n",
    "        break\n",
    "    df_train[c] = s_repl # 치환한 결과를 반영합니다.\n",
    "    # 일부러 cat9에 test에만 등장하는 수준을 만듭니다.\n",
    "    if c != 'cat9':\n",
    "        df_test[c] = df_test[c].replace(d) # 테스트에 대해서도 반영합니다."
   ]
  },
  {
   "cell_type": "code",
   "execution_count": 27,
   "id": "a29b8017",
   "metadata": {},
   "outputs": [],
   "source": [
    "# 문제 4번을 활용하기 위해 반듭니다.\n",
    "df_train['targetA'] = df_train['target'] <= 7.45"
   ]
  },
  {
   "cell_type": "code",
   "execution_count": 28,
   "id": "9a841dea",
   "metadata": {},
   "outputs": [],
   "source": [
    "q = [i for i in np.arange(0, 1.01, 0.01)]\n",
    "# 나머지 변수에 대해서도 해당 파생 변수를 만들어 줍니다.\n",
    "for i in range(0, 14):\n",
    "    col = 'cont{}'.format(i)\n",
    "    qt = df_train[col].quantile(q)\n",
    "    qt.iloc[[0, -1]] = [-np.inf, np.inf]\n",
    "    q_cut = pd.cut(df_train[col], bins=qt)\n",
    "    q_mean = df_train.groupby(q_cut)['target'].mean()\n",
    "    df_train[col + '_q'] = q_cut.map(q_mean).astype('float')\n",
    "    df_test[col + '_q'] = pd.cut(df_test[col], bins=qt).map(q_mean).astype('float')"
   ]
  },
  {
   "cell_type": "code",
   "execution_count": 29,
   "id": "edfad88f",
   "metadata": {},
   "outputs": [],
   "source": [
    "from scipy.stats import norm\n",
    "\n",
    "mu_A, s_A = 6.769, 0.616\n",
    "mu_B, s_B = 8.123, 0.527\n",
    "\n",
    "df_train_clf = df_train.assign(\n",
    "    # 귀무가설 : target은 A입니다, 대립가설: target은 B입니다.\n",
    "    prob_A = 1 - norm.cdf(df_train['target'], loc=mu_A, scale=s_A),\n",
    "    # 귀무가설 : target은 B입니다, 대립가설: target은 A입니다.\n",
    "    prob_B = norm.cdf(df_train['target'], loc=mu_B, scale=s_B)\n",
    ")\n",
    "df_train_clf = df_train_clf.query('prob_B < 0.01 or prob_A < 0.01').copy()"
   ]
  },
  {
   "cell_type": "code",
   "execution_count": 30,
   "id": "499300cc",
   "metadata": {},
   "outputs": [],
   "source": [
    "# 공통\n",
    "from sklearn.pipeline import make_pipeline\n",
    "from sklearn.compose import ColumnTransformer\n",
    "from sklearn.preprocessing import OneHotEncoder\n",
    "from sklearn.metrics import accuracy_score, mean_squared_error\n",
    "from sklearn.metrics import make_scorer, mean_squared_error\n",
    "from sklearn.model_selection import ShuffleSplit, KFold \n",
    "\n",
    "cv = KFold(n_splits=5, random_state=123)\n",
    "ss = ShuffleSplit(n_splits=1, train_size=0.8, random_state=123)\n",
    "neg_rmse = make_scorer(lambda y, y_hat: -mean_squared_error(y, y_hat) ** 0.5)\n",
    "X = df_test.columns.tolist() + ['cont{}_q'.format(i) for i in range(14)] + ['targetA_prob']\n",
    "\n",
    "# 위에서 발생한 leak을 바로 잡아 교차검증을 합니다.\n",
    "q = [i for i in np.arange(0, 1.01, 0.01)]\n",
    "def eval_model(model, sp):\n",
    "    score_train, score = list(), list()\n",
    "    for train_idx, test_idx in sp.split(df_train):\n",
    "        df_cv_train, df_cv_test = df_train.iloc[train_idx].copy(), df_train.iloc[test_idx].copy()\n",
    "        # 검증셋에서 train으로 파생변수를 만들고\n",
    "        # 검증셋의 test(겹외셋)에 검증셋의 train으로 만든 통계값(mean)을 반영합니다.\n",
    "        for i in range(0, 14):\n",
    "            col = 'cont{}'.format(i)\n",
    "            qt = df_cv_train[col].quantile(q)\n",
    "            qt.iloc[[0, -1]] = [-np.inf, np.inf]\n",
    "            q_cut = pd.cut(df_cv_train[col], bins=qt)\n",
    "            q_mean = df_cv_train.groupby(q_cut)['target'].mean()\n",
    "            df_cv_train[col + '_q'] = q_cut.map(q_mean).astype('float')\n",
    "            df_cv_test[col + '_q'] = pd.cut(df_cv_test[col], bins=qt).map(q_mean).astype('float')\n",
    "        model.fit(df_cv_train[X], df_cv_train['target'])\n",
    "        score_train.append(-(mean_squared_error(df_cv_train['target'], model.predict(df_cv_train[X]))) ** 0.5)\n",
    "        score.append(-(mean_squared_error(df_cv_test['target'], model.predict(df_cv_test[X]))) ** 0.5)\n",
    "    return score_train, score\n",
    "\n",
    "def choose_model(model):\n",
    "    model.fit(df_train[X], df_train['target'])\n",
    "    prd = model.predict(df_test[X])\n",
    "    pd.DataFrame({\n",
    "        'target': prd\n",
    "    }, index=df_test.index).to_csv('answer6.csv')\n",
    "    return prd "
   ]
  },
  {
   "cell_type": "code",
   "execution_count": 31,
   "id": "e68de730",
   "metadata": {},
   "outputs": [],
   "source": [
    "# 문제 3번 모델을 만듭니다. targetA일 확률을 활용할 예정입니다.\n",
    "import xgboost as xgb\n",
    "\n",
    "# Tree 계열(Tree 계열 Ensemble 모델 포함)은 무시(handle_unknown='ignore')해도 됩니다.\n",
    "ct = ColumnTransformer([\n",
    "    ('ohe', OneHotEncoder(handle_unknown='ignore'), ['cat{}'.format(i) for i in range(10)]),\n",
    "    ('pt', 'passthrough', ['cont{}'.format(i) for i in range(14)])\n",
    "])\n",
    "X_xgb = ['cont{}'.format(i) for i in range(14)] + ['cat{}'.format(i) for i in range(10)]\n",
    "clf_xgb = make_pipeline(\n",
    "    ct,\n",
    "    xgb.XGBClassifier(\n",
    "        max_depth = 2, # 트리의 최대 깊이 2\n",
    "        reg_alpha = 0.1, # L1 규제 0.1\n",
    "        reg_lambda = 0.1, # L2 규제 0.1\n",
    "        colsample_bytree=0.25, # 트리 당 컬럼 샘플링 비율 0.25\n",
    "        n_estimators=500, # 트리의 수 500\n",
    "        random_state=123, # random_state 123\n",
    "    )\n",
    ")\n",
    "\n",
    "X_xgb = ['cat{}'.format(i) for i in range(10)] + ['cont{}'.format(i) for i in range(14)]\n",
    "clf_xgb.fit(df_train_clf[X_xgb], df_train_clf['targetA'])\n",
    "df_train['targetA_prob'] = clf_xgb.predict_proba(df_train[X_xgb])[:, 1]\n",
    "df_test['targetA_prob'] = clf_xgb.predict_proba(df_test[X_xgb])[:, 1]"
   ]
  },
  {
   "cell_type": "code",
   "execution_count": 44,
   "id": "48a3b188",
   "metadata": {},
   "outputs": [
    {
     "data": {
      "text/plain": [
       "([-0.8640923487492325,\n",
       "  -0.8622410903241682,\n",
       "  -0.8636089940936378,\n",
       "  -0.8628898930428618,\n",
       "  -0.8622645403885227],\n",
       " [-0.8589375958480246,\n",
       "  -0.8664481935452925,\n",
       "  -0.8608939498501563,\n",
       "  -0.8637802543667048,\n",
       "  -0.8662598490782522],\n",
       " -0.863263968537686)"
      ]
     },
     "execution_count": 44,
     "metadata": {},
     "output_type": "execute_result"
    }
   ],
   "source": [
    "# Baseline 모델을 만들어 봅니다.\n",
    "# handle_unknown을 ignore로 하여 등장하지 않은 수준에 대해 에러가 발생하지 않도록 합니다.\n",
    "# 이 경우 해당 변수의 가변수 모든 값은 0이 됩니다.\n",
    "from sklearn.linear_model import LinearRegression\n",
    "ct = ColumnTransformer([\n",
    "    ('ohe', OneHotEncoder(handle_unknown='ignore'), ['cat{}'.format(i) for i in range(10)]),\n",
    "    ('pt', 'passthrough', ['cont{}'.format(i) for i in range(14)])\n",
    "])\n",
    "X_lr = ['cat{}'.format(i) for i in range(10)] + ['cont{}'.format(i) for i in range(14)]\n",
    "reg_lr = make_pipeline(ct, LinearRegression())\n",
    "scores_train, scores_test = eval_model(reg_lr, cv)\n",
    "scores_train, scores_test, np.mean(scores_test)"
   ]
  },
  {
   "cell_type": "code",
   "execution_count": 46,
   "id": "5dfbffb6",
   "metadata": {},
   "outputs": [],
   "source": [
    "prd = choose_model(reg_lr)"
   ]
  },
  {
   "cell_type": "code",
   "execution_count": 39,
   "id": "08b0b81b",
   "metadata": {},
   "outputs": [
    {
     "data": {
      "text/plain": [
       "2035002760.747577"
      ]
     },
     "execution_count": 39,
     "metadata": {},
     "output_type": "execute_result"
    }
   ],
   "source": [
    "# 검증시에는 문제가 보이지 않지만\n",
    "# 제출한 test 결과에는 심한 결합이 보입니다.\n",
    "# 변수마다 하나의 가변수를 제외하지 않아, 완전한 다중공선성에 의한\n",
    "# 모델의 불안정성이 심하게되어 문제를 일으킨 것입니다.\n",
    "mean_squared_error(df_ans['target'], prd) ** 0.5"
   ]
  },
  {
   "cell_type": "code",
   "execution_count": 45,
   "id": "f90f44cd",
   "metadata": {},
   "outputs": [
    {
     "data": {
      "text/plain": [
       "array([ 1.02275370e+11,  1.02275370e+11,  6.97260841e+09,  6.97260841e+09,\n",
       "       -6.47470121e+09, -6.47470121e+09, -1.16364952e+10, -1.16364952e+10,\n",
       "       -1.16364952e+10,  5.92733932e+10,  5.92733932e+10, -6.05352419e+09,\n",
       "       -6.05352419e+09, -6.05352419e+09, -6.05352419e+09, -6.13632917e+09,\n",
       "       -6.13632917e+09, -6.13632917e+09, -2.13267137e+10, -2.13267137e+10,\n",
       "       -2.13267137e+10, -2.13267137e+10,  1.26928173e+10,  1.26928173e+10,\n",
       "        1.26928173e+10,  1.26928173e+10,  1.26928173e+10,  5.60824635e+10,\n",
       "        5.60824635e+10,  5.60824635e+10,  5.60824635e+10,  5.60824635e+10,\n",
       "        5.60824635e+10,  5.60824635e+10,  5.60824635e+10,  5.60824635e+10,\n",
       "        5.60824635e+10,  5.60824635e+10,  5.60824635e+10, -2.84263611e-01,\n",
       "        1.46797180e-01,  1.07498169e-02, -2.32238770e-02, -2.70361900e-02,\n",
       "       -2.35549927e-01,  1.22724533e-01,  7.58972168e-02,  3.08395386e-01,\n",
       "        1.33668900e-01, -1.05171204e-01,  2.24174500e-01,  7.12165833e-02,\n",
       "       -2.58636475e-02])"
      ]
     },
     "execution_count": 45,
     "metadata": {},
     "output_type": "execute_result"
    }
   ],
   "source": [
    "# 회귀 계수에 큰 값이 채워져 있습니다.\n",
    "# 불안정한 모델이 되었습니다.\n",
    "reg_lr.fit(df_train[X], df_train['target'])\n",
    "reg_lr[1].coef_"
   ]
  },
  {
   "cell_type": "code",
   "execution_count": 49,
   "id": "f24340a6",
   "metadata": {},
   "outputs": [
    {
     "data": {
      "text/plain": [
       "cat3           {}\n",
       "cat4           {}\n",
       "cat6           {}\n",
       "cat7           {}\n",
       "cat8           {}\n",
       "cat9    {D, E, C}\n",
       "dtype: object"
      ]
     },
     "execution_count": 49,
     "metadata": {},
     "output_type": "execute_result"
    }
   ],
   "source": [
    "# 따라서 Linear과 같은 모수적 모델에서는 모델의 안정성을 위해, \n",
    "# drop='first'를 반드시 해주어야 합니다. \n",
    "# Test만 등장하는 수준을 제거해 줍니다.\n",
    "\n",
    "# Test에만 등장하는 수준을 봅니다.\n",
    "pd.concat([\n",
    "    df_train[[k[0] for k in repl_list]].apply(lambda x: set(x.unique())).rename('train_level'),\n",
    "    df_test[[k[0] for k in repl_list]].apply(lambda x: set(x.unique())).rename('test_level')\n",
    "], axis=1).apply(lambda x: x['test_level'] - x['train_level'], axis=1)"
   ]
  },
  {
   "cell_type": "code",
   "execution_count": 50,
   "id": "2da525d2",
   "metadata": {},
   "outputs": [],
   "source": [
    "# 미등장 수준을 가장 자주 등장하는 수준으로 바꿉니다.\n",
    "df_test['cat9'] = df_test['cat9'].replace({'D': np.nan, 'E': np.nan, 'C': np.nan})\n",
    "df_test['cat9'] = df_test['cat9'].fillna(df_train['cat9'].mode().iloc[0])"
   ]
  },
  {
   "cell_type": "code",
   "execution_count": 51,
   "id": "08ad73ff",
   "metadata": {},
   "outputs": [
    {
     "data": {
      "text/plain": [
       "([-0.8640766554697877,\n",
       "  -0.8622215542863032,\n",
       "  -0.8635901024339211,\n",
       "  -0.8628727191950373,\n",
       "  -0.8622518628759744],\n",
       " [-0.8589626898717829,\n",
       "  -0.8664070309294921,\n",
       "  -0.8608483019953761,\n",
       "  -0.8637481914465037,\n",
       "  -0.8662619974502677],\n",
       " -0.8632456423386845)"
      ]
     },
     "execution_count": 51,
     "metadata": {},
     "output_type": "execute_result"
    }
   ],
   "source": [
    "# Baseline 모델을 만들어 봅니다.\n",
    "# drop='first' 설정을 해줍니다.\n",
    "from sklearn.linear_model import LinearRegression\n",
    "ct = ColumnTransformer([\n",
    "    ('ohe', OneHotEncoder(drop='first'), ['cat{}'.format(i) for i in range(10)]),\n",
    "    ('pt', 'passthrough', ['cont{}'.format(i) for i in range(14)])\n",
    "])\n",
    "X_lr = ['cat{}'.format(i) for i in range(10)] + ['cont{}'.format(i) for i in range(14)]\n",
    "reg_lr = make_pipeline(ct, LinearRegression())\n",
    "scores_train, scores_test = eval_model(reg_lr, cv)\n",
    "scores_train, scores_test, np.mean(scores_test)"
   ]
  },
  {
   "cell_type": "code",
   "execution_count": 52,
   "id": "5838f854",
   "metadata": {
    "scrolled": true
   },
   "outputs": [
    {
     "data": {
      "text/plain": [
       "0.8657268588416211"
      ]
     },
     "execution_count": 52,
     "metadata": {},
     "output_type": "execute_result"
    }
   ],
   "source": [
    "# 문제가 해결됩니다.\n",
    "prd = choose_model(reg_lr)\n",
    "mean_squared_error(df_ans['target'], prd) ** 0.5"
   ]
  },
  {
   "cell_type": "code",
   "execution_count": 53,
   "id": "ca0ad980",
   "metadata": {},
   "outputs": [
    {
     "data": {
      "text/plain": [
       "array([-0.14737833,  0.16983335,  0.24147158,  0.10693804,  0.03994362,\n",
       "        0.15713566,  0.03681214, -0.17486971,  0.03074087,  0.21519861,\n",
       "        0.36870383, -0.00597853, -0.05547379, -0.05870304, -0.00092302,\n",
       "        0.05854559,  0.07181603, -0.10018803,  0.03508515,  0.13365193,\n",
       "        0.1647826 ,  0.08022279, -0.00404722,  0.02865399,  0.09003857,\n",
       "        0.21092791,  0.09276305,  0.09655687,  0.07017521, -0.28413913,\n",
       "        0.14685393,  0.01069457, -0.02323074, -0.02707619, -0.23571329,\n",
       "        0.12262252,  0.07588697,  0.30830852,  0.13373422, -0.10509757,\n",
       "        0.22408617,  0.0712212 , -0.02577207])"
      ]
     },
     "execution_count": 53,
     "metadata": {},
     "output_type": "execute_result"
    }
   ],
   "source": [
    "# 회귀 계수에 큰 값이 채워져 있습니다.\n",
    "# 문제가 해소되었습니다.\n",
    "reg_lr.fit(df_train[X], df_train['target'])\n",
    "reg_lr[1].coef_"
   ]
  },
  {
   "cell_type": "code",
   "execution_count": null,
   "id": "0ee76391",
   "metadata": {},
   "outputs": [],
   "source": []
  }
 ],
 "metadata": {
  "kernelspec": {
   "display_name": "Python 3 (ipykernel)",
   "language": "python",
   "name": "python3"
  },
  "language_info": {
   "codemirror_mode": {
    "name": "ipython",
    "version": 3
   },
   "file_extension": ".py",
   "mimetype": "text/x-python",
   "name": "python",
   "nbconvert_exporter": "python",
   "pygments_lexer": "ipython3",
   "version": "3.7.4"
  }
 },
 "nbformat": 4,
 "nbformat_minor": 5
}
